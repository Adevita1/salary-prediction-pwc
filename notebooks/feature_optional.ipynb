{
 "cells": [
  {
   "cell_type": "markdown",
   "id": "90c5f74e",
   "metadata": {},
   "source": [
    "# 🧪 Feature Opcional: Descripción del Puesto como Texto\n",
    "\n",
    "En este notebook incorporamos una **feature opcional** basada en la columna `Description`, que contiene un texto libre con información semiestructurada del puesto.\n",
    "\n",
    "Usaremos **TF-IDF** para vectorizar el texto y luego **SVD (TruncatedSVD)** para reducir la dimensionalidad. Esta feature se agregará al conjunto de datos original y se evaluará su impacto en el modelo.\n"
   ]
  },
  {
   "cell_type": "markdown",
   "id": "9d52c3f6",
   "metadata": {},
   "source": [
    "✅ CELDA 2 – Imports + NLTK"
   ]
  },
  {
   "cell_type": "code",
   "execution_count": 3,
   "id": "ea927a3a",
   "metadata": {},
   "outputs": [
    {
     "name": "stderr",
     "output_type": "stream",
     "text": [
      "[nltk_data] Downloading package stopwords to\n",
      "[nltk_data]     C:\\Users\\Adrian\\AppData\\Roaming\\nltk_data...\n",
      "[nltk_data]   Package stopwords is already up-to-date!\n"
     ]
    }
   ],
   "source": [
    "import pandas as pd\n",
    "import numpy as np\n",
    "import re\n",
    "import nltk\n",
    "from sklearn.feature_extraction.text import TfidfVectorizer\n",
    "from sklearn.decomposition import TruncatedSVD\n",
    "from sklearn.pipeline import make_pipeline\n",
    "from sklearn.preprocessing import Normalizer\n",
    "from sklearn.ensemble import RandomForestRegressor\n",
    "from sklearn.model_selection import train_test_split\n",
    "from sklearn.metrics import mean_squared_error, r2_score\n",
    "from nltk.corpus import stopwords\n",
    "\n",
    "nltk.download('stopwords')\n",
    "stop_words = set(stopwords.words('english'))\n"
   ]
  },
  {
   "cell_type": "markdown",
   "id": "b8ae010e",
   "metadata": {},
   "source": [
    "✅ CELDA 3 – Carga del dataset limpio"
   ]
  },
  {
   "cell_type": "code",
   "execution_count": 8,
   "id": "7cbabef5",
   "metadata": {},
   "outputs": [],
   "source": [
    "df = pd.read_csv('../data/df_clean.csv')\n"
   ]
  },
  {
   "cell_type": "code",
   "execution_count": 10,
   "id": "6af43bd0",
   "metadata": {},
   "outputs": [],
   "source": [
    "import pandas as pd\n",
    "\n",
    "# Volvemos a cargar los datos y limpiamos igual que antes\n",
    "people = pd.read_csv('../data/people.csv')\n",
    "salary = pd.read_csv('../data/salary.csv')\n",
    "descriptions = pd.read_csv('../data/descriptions.csv')\n",
    "\n",
    "df = people.merge(salary, on='id').merge(descriptions, on='id')\n",
    "\n",
    "# Rellenar valores faltantes y normalizar texto\n",
    "df['Education Level'] = df['Education Level'].fillna('unknown')\n",
    "df['Gender'] = df['Gender'].fillna('unknown')\n",
    "\n",
    "for col in ['Gender', 'Education Level', 'Job Title']:\n",
    "    df[col] = df[col].str.strip().str.lower()\n",
    "\n",
    "# Guardamos como df_clean\n",
    "df_clean = df.copy()\n"
   ]
  },
  {
   "cell_type": "code",
   "execution_count": 11,
   "id": "0b082f4e",
   "metadata": {},
   "outputs": [
    {
     "name": "stdout",
     "output_type": "stream",
     "text": [
      "Shape de la matriz TF-IDF: (370, 100)\n"
     ]
    }
   ],
   "source": [
    "from sklearn.feature_extraction.text import TfidfVectorizer\n",
    "\n",
    "df = df_clean.dropna(subset=['Description', 'Salary'])\n",
    "\n",
    "tfidf = TfidfVectorizer(max_features=100, stop_words='english')\n",
    "X_tfidf = tfidf.fit_transform(df['Description'])\n",
    "\n",
    "print(\"Shape de la matriz TF-IDF:\", X_tfidf.shape)\n"
   ]
  },
  {
   "cell_type": "code",
   "execution_count": 13,
   "id": "422bd0c7",
   "metadata": {},
   "outputs": [
    {
     "name": "stdout",
     "output_type": "stream",
     "text": [
      "📊 MSE combinado: 247,638,356\n",
      "📈 R² combinado: 0.8900\n"
     ]
    }
   ],
   "source": [
    "from sklearn.compose import ColumnTransformer\n",
    "from sklearn.preprocessing import OneHotEncoder, StandardScaler\n",
    "from sklearn.pipeline import Pipeline\n",
    "from sklearn.model_selection import train_test_split\n",
    "from sklearn.ensemble import RandomForestRegressor\n",
    "from sklearn.metrics import mean_squared_error, r2_score\n",
    "from sklearn.feature_extraction.text import TfidfVectorizer\n",
    "from scipy.sparse import hstack\n",
    "\n",
    "# 🔹 1. Filtrar valores nulos en todas las columnas necesarias\n",
    "required_cols = ['Age', 'Years of Experience', 'Gender', 'Education Level', 'Job Title', 'Description', 'Salary']\n",
    "df_valid = df_clean.dropna(subset=required_cols)\n",
    "\n",
    "# 🔹 2. Separar target\n",
    "y = df_valid['Salary']\n",
    "\n",
    "# 🔹 3. Features estructuradas\n",
    "X_struct = df_valid[['Age', 'Years of Experience', 'Gender', 'Education Level', 'Job Title']]\n",
    "\n",
    "preprocessor = ColumnTransformer([\n",
    "    ('num', StandardScaler(), ['Age', 'Years of Experience']),\n",
    "    ('cat', OneHotEncoder(handle_unknown='ignore'), ['Gender', 'Education Level', 'Job Title'])\n",
    "])\n",
    "\n",
    "X_struct_transformed = preprocessor.fit_transform(X_struct)\n",
    "\n",
    "# 🔹 4. TF-IDF para Descriptions\n",
    "tfidf = TfidfVectorizer(max_features=100, stop_words='english')\n",
    "X_text = tfidf.fit_transform(df_valid['Description'])\n",
    "\n",
    "# 🔹 5. Combinar estructuradas + texto\n",
    "X_final = hstack([X_struct_transformed, X_text])\n",
    "\n",
    "# 🔹 6. Train/test split\n",
    "X_train, X_test, y_train, y_test = train_test_split(X_final, y, test_size=0.2, random_state=42)\n",
    "\n",
    "# 🔹 7. Entrenar modelo\n",
    "model = RandomForestRegressor(random_state=42)\n",
    "model.fit(X_train, y_train)\n",
    "\n",
    "# 🔹 8. Evaluar\n",
    "y_pred = model.predict(X_test)\n",
    "mse = mean_squared_error(y_test, y_pred)\n",
    "r2 = r2_score(y_test, y_pred)\n",
    "\n",
    "print(f\"📊 MSE combinado: {mse:,.0f}\")\n",
    "print(f\"📈 R² combinado: {r2:.4f}\")\n"
   ]
  },
  {
   "cell_type": "code",
   "execution_count": 17,
   "id": "0d3e7e6c",
   "metadata": {},
   "outputs": [
    {
     "name": "stdout",
     "output_type": "stream",
     "text": [
      "📊 MSE combinado: 347,970,507\n",
      "📈 R² combinado: 0.8674\n"
     ]
    }
   ],
   "source": [
    "# 🔢 Columnas válidas en tu dataset\n",
    "numeric_cols = ['Age', 'Years of Experience']\n",
    "categorical_cols = ['Education Level', 'Job Title', 'Gender']\n",
    "\n",
    "# 🎯 Variables predictoras y target\n",
    "X_base = df[numeric_cols + categorical_cols].copy()\n",
    "y = df['Salary']\n",
    "\n",
    "# 🧠 Codificación one-hot\n",
    "X_base = pd.get_dummies(X_base, drop_first=True)\n",
    "\n",
    "# 🔠 TF-IDF con Descriptions\n",
    "from sklearn.feature_extraction.text import TfidfVectorizer\n",
    "\n",
    "tfidf = TfidfVectorizer(max_features=100)\n",
    "tfidf_matrix = tfidf.fit_transform(df['Description'])\n",
    "tfidf_df = pd.DataFrame(tfidf_matrix.toarray(), columns=tfidf.get_feature_names_out())\n",
    "\n",
    "# 🔗 Unir features\n",
    "import pandas as pd\n",
    "X = pd.concat([X_base.reset_index(drop=True), tfidf_df.reset_index(drop=True)], axis=1)\n",
    "\n",
    "# 🔀 Train/test split\n",
    "from sklearn.model_selection import train_test_split\n",
    "X_train, X_test, y_train, y_test = train_test_split(X, y, test_size=0.2, random_state=42)\n",
    "\n",
    "# 🧪 Modelo\n",
    "from sklearn.ensemble import RandomForestRegressor\n",
    "from sklearn.metrics import mean_squared_error, r2_score\n",
    "\n",
    "model = RandomForestRegressor(random_state=42)\n",
    "model.fit(X_train, y_train)\n",
    "\n",
    "# 📈 Evaluación\n",
    "y_pred = model.predict(X_test)\n",
    "mse = mean_squared_error(y_test, y_pred)\n",
    "r2 = r2_score(y_test, y_pred)\n",
    "\n",
    "print(f\"📊 MSE combinado: {mse:,.0f}\")\n",
    "print(f\"📈 R² combinado: {r2:.4f}\")\n"
   ]
  },
  {
   "cell_type": "markdown",
   "id": "63a2cecc",
   "metadata": {},
   "source": [
    "## 📊 Importancia de Variables\n",
    "\n",
    "Para entender qué factores influyen más en la predicción del salario, analizamos la importancia de cada variable utilizando el atributo `feature_importances_` del modelo Random Forest.\n",
    "\n",
    "Esto incluye tanto variables estructuradas (como edad y años de experiencia) como las más relevantes del vector TF-IDF aplicado sobre las descripciones de los puestos.\n",
    "\n",
    "El siguiente gráfico muestra las 20 variables más importantes en la predicción:\n"
   ]
  },
  {
   "cell_type": "code",
   "execution_count": 18,
   "id": "59636ae1",
   "metadata": {},
   "outputs": [
    {
     "name": "stderr",
     "output_type": "stream",
     "text": [
      "C:\\Users\\Adrian\\AppData\\Local\\Temp\\ipykernel_129136\\3849468097.py:19: UserWarning: Glyph 128204 (\\N{PUSHPIN}) missing from font(s) DejaVu Sans.\n",
      "  plt.tight_layout()\n"
     ]
    },
    {
     "data": {
      "text/plain": [
       "<Figure size 1200x800 with 0 Axes>"
      ]
     },
     "metadata": {},
     "output_type": "display_data"
    },
    {
     "name": "stderr",
     "output_type": "stream",
     "text": [
      "c:\\Users\\Adrian\\Downloads\\salary-prediction-pwc\\venv\\Lib\\site-packages\\IPython\\core\\pylabtools.py:170: UserWarning: Glyph 128204 (\\N{PUSHPIN}) missing from font(s) DejaVu Sans.\n",
      "  fig.canvas.print_figure(bytes_io, **kw)\n"
     ]
    },
    {
     "data": {
      "image/png": "[encoded data removed]",
      "text/plain": [
       "<Figure size 640x480 with 1 Axes>"
      ]
     },
     "metadata": {},
     "output_type": "display_data"
    }
   ],
   "source": [
    "import matplotlib.pyplot as plt\n",
    "\n",
    "# 🔍 Importancia de features\n",
    "importances = model.feature_importances_\n",
    "feature_names = X.columns\n",
    "\n",
    "# 🧱 Crear DataFrame ordenado\n",
    "importances_df = pd.DataFrame({\n",
    "    'Feature': feature_names,\n",
    "    'Importance': importances\n",
    "}).sort_values(by='Importance', ascending=False)\n",
    "\n",
    "# 📊 Gráfico\n",
    "plt.figure(figsize=(12, 8))\n",
    "importances_df.head(20).plot(kind='barh', x='Feature', y='Importance', legend=False, color='skyblue')\n",
    "plt.title('📌 Top 20 Variables más Importantes')\n",
    "plt.xlabel('Importancia')\n",
    "plt.gca().invert_yaxis()\n",
    "plt.tight_layout()\n",
    "plt.show()\n"
   ]
  },
  {
   "cell_type": "markdown",
   "id": "c392560e",
   "metadata": {},
   "source": [
    "## ✅ Conclusiones Finales\n",
    "\n",
    "Este análisis permitió construir un modelo de predicción de salarios a partir de características estructuradas y texto libre, logrando métricas de desempeño destacables:\n",
    "\n",
    "- 🔍 El modelo combinó variables numéricas, categóricas y texto de descripciones de puestos.\n",
    "- 📈 Las métricas alcanzadas incluyen un R² de aproximadamente 0.87, lo cual indica una buena capacidad explicativa del modelo.\n",
    "- 🧠 Las variables más influyentes fueron la edad, los años de experiencia y ciertas palabras clave en las descripciones como \"senior\", \"bachelor\", \"manager\".\n",
    "\n",
    "**Posibles mejoras futuras:**\n",
    "- Utilizar embeddings como Word2Vec o BERT para mejorar la representación de texto.\n",
    "- Ajuste de hiperparámetros con técnicas como Grid Search o Random Search.\n",
    "- Validación cruzada para aumentar la robustez del modelo.\n",
    "- Añadir más datos y enriquecer los features.\n",
    "\n",
    "---\n",
    "Este proyecto demuestra cómo un enfoque integral de ciencia de datos puede aportar valor mediante modelos interpretables y efectivos en contextos reales como la predicción salarial.\n"
   ]
  }
 ],
 "metadata": {
  "kernelspec": {
   "display_name": "venv",
   "language": "python",
   "name": "python3"
  },
  "language_info": {
   "codemirror_mode": {
    "name": "ipython",
    "version": 3
   },
   "file_extension": ".py",
   "mimetype": "text/x-python",
   "name": "python",
   "nbconvert_exporter": "python",
   "pygments_lexer": "ipython3",
   "version": "3.13.5"
  }
 },
 "nbformat": 4,
 "nbformat_minor": 5
}
