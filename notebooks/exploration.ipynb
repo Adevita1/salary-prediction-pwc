{
 "cells": [
  {
   "cell_type": "code",
   "execution_count": 2,
   "id": "2eaeae40-da90-4b37-b46b-f2e15f288ffd",
   "metadata": {},
   "outputs": [
    {
     "name": "stdout",
     "output_type": "stream",
     "text": [
      "People: (375, 6)\n",
      "Salary: (375, 2)\n",
      "Descriptions: (375, 2)\n"
     ]
    }
   ],
   "source": [
    "import pandas as pd\n",
    "\n",
    "# Cargar los datasets\n",
    "people = pd.read_csv('../data/people.csv')\n",
    "salary = pd.read_csv('../data/salary.csv')\n",
    "descriptions = pd.read_csv('../data/descriptions.csv')\n",
    "\n",
    "# Mostrar cantidad de registros por dataset\n",
    "print(\"People:\", people.shape)\n",
    "print(\"Salary:\", salary.shape)\n",
    "print(\"Descriptions:\", descriptions.shape)\n"
   ]
  },
  {
   "cell_type": "code",
   "execution_count": 3,
   "id": "0c6891d3-57d7-4e02-893c-bdd5270c13f8",
   "metadata": {},
   "outputs": [
    {
     "name": "stdout",
     "output_type": "stream",
     "text": [
      "People\n",
      " Index(['id', 'Age', 'Gender', 'Education Level', 'Job Title',\n",
      "       'Years of Experience'],\n",
      "      dtype='object')\n",
      "\n",
      "Salary\n",
      " Index(['id', 'Salary'], dtype='object')\n",
      "\n",
      "Descriptions\n",
      " Index(['id', 'Description'], dtype='object')\n"
     ]
    }
   ],
   "source": [
    "print(\"People\\n\", people.columns)\n",
    "print(\"\\nSalary\\n\", salary.columns)\n",
    "print(\"\\nDescriptions\\n\", descriptions.columns)\n"
   ]
  },
  {
   "cell_type": "code",
   "execution_count": 4,
   "id": "08992f7b-9a86-4d1c-8479-246c09a56ccc",
   "metadata": {},
   "outputs": [
    {
     "name": "stdout",
     "output_type": "stream",
     "text": [
      "(375, 8)\n"
     ]
    },
    {
     "data": {
      "text/html": [
       "<div>\n",
       "<style scoped>\n",
       "    .dataframe tbody tr th:only-of-type {\n",
       "        vertical-align: middle;\n",
       "    }\n",
       "\n",
       "    .dataframe tbody tr th {\n",
       "        vertical-align: top;\n",
       "    }\n",
       "\n",
       "    .dataframe thead th {\n",
       "        text-align: right;\n",
       "    }\n",
       "</style>\n",
       "<table border=\"1\" class=\"dataframe\">\n",
       "  <thead>\n",
       "    <tr style=\"text-align: right;\">\n",
       "      <th></th>\n",
       "      <th>id</th>\n",
       "      <th>Age</th>\n",
       "      <th>Gender</th>\n",
       "      <th>Education Level</th>\n",
       "      <th>Job Title</th>\n",
       "      <th>Years of Experience</th>\n",
       "      <th>Salary</th>\n",
       "      <th>Description</th>\n",
       "    </tr>\n",
       "  </thead>\n",
       "  <tbody>\n",
       "    <tr>\n",
       "      <th>0</th>\n",
       "      <td>0</td>\n",
       "      <td>32.0</td>\n",
       "      <td>Male</td>\n",
       "      <td>Bachelor's</td>\n",
       "      <td>Software Engineer</td>\n",
       "      <td>5.0</td>\n",
       "      <td>90000.0</td>\n",
       "      <td>I am a 32-year-old male working as a Software ...</td>\n",
       "    </tr>\n",
       "    <tr>\n",
       "      <th>1</th>\n",
       "      <td>1</td>\n",
       "      <td>28.0</td>\n",
       "      <td>Female</td>\n",
       "      <td>Master's</td>\n",
       "      <td>Data Analyst</td>\n",
       "      <td>3.0</td>\n",
       "      <td>65000.0</td>\n",
       "      <td>I am a 28-year-old data analyst with a Master'...</td>\n",
       "    </tr>\n",
       "    <tr>\n",
       "      <th>2</th>\n",
       "      <td>2</td>\n",
       "      <td>45.0</td>\n",
       "      <td>Male</td>\n",
       "      <td>PhD</td>\n",
       "      <td>Senior Manager</td>\n",
       "      <td>15.0</td>\n",
       "      <td>150000.0</td>\n",
       "      <td>I am a 45-year-old Senior Manager with a PhD a...</td>\n",
       "    </tr>\n",
       "    <tr>\n",
       "      <th>3</th>\n",
       "      <td>3</td>\n",
       "      <td>36.0</td>\n",
       "      <td>Female</td>\n",
       "      <td>Bachelor's</td>\n",
       "      <td>Sales Associate</td>\n",
       "      <td>7.0</td>\n",
       "      <td>60000.0</td>\n",
       "      <td>I am a 36-year-old female Sales Associate with...</td>\n",
       "    </tr>\n",
       "    <tr>\n",
       "      <th>4</th>\n",
       "      <td>4</td>\n",
       "      <td>52.0</td>\n",
       "      <td>Male</td>\n",
       "      <td>Master's</td>\n",
       "      <td>Director</td>\n",
       "      <td>20.0</td>\n",
       "      <td>200000.0</td>\n",
       "      <td>I am a 52-year-old male with over two decades ...</td>\n",
       "    </tr>\n",
       "  </tbody>\n",
       "</table>\n",
       "</div>"
      ],
      "text/plain": [
       "   id   Age  Gender Education Level          Job Title  Years of Experience  \\\n",
       "0   0  32.0    Male      Bachelor's  Software Engineer                  5.0   \n",
       "1   1  28.0  Female        Master's       Data Analyst                  3.0   \n",
       "2   2  45.0    Male             PhD     Senior Manager                 15.0   \n",
       "3   3  36.0  Female      Bachelor's    Sales Associate                  7.0   \n",
       "4   4  52.0    Male        Master's           Director                 20.0   \n",
       "\n",
       "     Salary                                        Description  \n",
       "0   90000.0  I am a 32-year-old male working as a Software ...  \n",
       "1   65000.0  I am a 28-year-old data analyst with a Master'...  \n",
       "2  150000.0  I am a 45-year-old Senior Manager with a PhD a...  \n",
       "3   60000.0  I am a 36-year-old female Sales Associate with...  \n",
       "4  200000.0  I am a 52-year-old male with over two decades ...  "
      ]
     },
     "execution_count": 4,
     "metadata": {},
     "output_type": "execute_result"
    }
   ],
   "source": [
    "# Unir datasets\n",
    "df = people.merge(salary, on='id').merge(descriptions, on='id')\n",
    "\n",
    "# Verificar resultado\n",
    "print(df.shape)\n",
    "df.head()\n"
   ]
  },
  {
   "cell_type": "code",
   "execution_count": 5,
   "id": "5d3cda1d-7bad-4067-92c7-1d47e4771d12",
   "metadata": {},
   "outputs": [
    {
     "name": "stdout",
     "output_type": "stream",
     "text": [
      "<class 'pandas.core.frame.DataFrame'>\n",
      "RangeIndex: 375 entries, 0 to 374\n",
      "Data columns (total 8 columns):\n",
      " #   Column               Non-Null Count  Dtype  \n",
      "---  ------               --------------  -----  \n",
      " 0   id                   375 non-null    int64  \n",
      " 1   Age                  370 non-null    float64\n",
      " 2   Gender               370 non-null    object \n",
      " 3   Education Level      370 non-null    object \n",
      " 4   Job Title            370 non-null    object \n",
      " 5   Years of Experience  373 non-null    float64\n",
      " 6   Salary               373 non-null    float64\n",
      " 7   Description          372 non-null    object \n",
      "dtypes: float64(3), int64(1), object(4)\n",
      "memory usage: 23.6+ KB\n",
      "None\n",
      "\n",
      "--- Estadísticas numéricas ---\n",
      "               id         Age  Years of Experience         Salary\n",
      "count  375.000000  370.000000           373.000000     373.000000\n",
      "mean   187.000000   37.437838            10.030831  100577.345845\n",
      "std    108.397417    7.080465             6.557007   48240.013482\n",
      "min      0.000000   23.000000             0.000000     350.000000\n",
      "25%     93.500000   31.250000             4.000000   55000.000000\n",
      "50%    187.000000   36.000000             9.000000   95000.000000\n",
      "75%    280.500000   44.000000            15.000000  140000.000000\n",
      "max    374.000000   53.000000            25.000000  250000.000000\n",
      "\n",
      "--- Valores únicos por columna categórica ---\n",
      "Gender: ['Male' 'Female' nan]\n",
      "Education Level: [\"Bachelor's\" \"Master's\" 'PhD' nan]\n",
      "Job Title: ['Software Engineer' 'Data Analyst' 'Senior Manager' 'Sales Associate'\n",
      " 'Director' 'Marketing Analyst' 'Product Manager' 'Sales Manager'\n",
      " 'Marketing Coordinator' 'Senior Scientist' 'Software Developer'\n",
      " 'HR Manager' 'Financial Analyst' 'Project Manager' 'Customer Service Rep'\n",
      " 'Operations Manager' 'Marketing Manager' 'Senior Engineer'\n",
      " 'Data Entry Clerk' 'Sales Director' 'Business Analyst' 'VP of Operations'\n",
      " 'IT Support' 'Recruiter' 'Financial Manager' 'Social Media Specialist'\n",
      " 'Software Manager' 'Junior Developer' 'Senior Consultant'\n",
      " 'Product Designer' 'CEO' 'Accountant' 'Data Scientist'\n",
      " 'Marketing Specialist' 'Technical Writer' 'HR Generalist'\n",
      " 'Project Engineer' 'Customer Success Rep' 'Sales Executive' 'UX Designer'\n",
      " 'Operations Director' 'Network Engineer' 'Administrative Assistant'\n",
      " 'Strategy Consultant' 'Copywriter' 'Account Manager'\n",
      " 'Director of Marketing' 'Help Desk Analyst' 'Customer Service Manager'\n",
      " nan 'Event Coordinator' 'VP of Finance' 'Graphic Designer'\n",
      " 'UX Researcher' 'Social Media Manager' 'Senior Data Scientist'\n",
      " 'Junior Accountant' 'Digital Marketing Manager' 'IT Manager'\n",
      " 'Customer Service Representative' 'Business Development Manager'\n",
      " 'Senior Financial Analyst' 'Web Developer' 'Research Director'\n",
      " 'Technical Support Specialist' 'Creative Director'\n",
      " 'Senior Software Engineer' 'Human Resources Director'\n",
      " 'Content Marketing Manager' 'Technical Recruiter' 'Sales Representative'\n",
      " 'Chief Technology Officer' 'Junior Designer' 'Financial Advisor'\n",
      " 'Junior Account Manager' 'Senior Project Manager' 'Principal Scientist'\n",
      " 'Supply Chain Manager' 'Senior Marketing Manager' 'Training Specialist'\n",
      " 'Research Scientist' 'Junior Software Developer'\n",
      " 'Public Relations Manager' 'Operations Analyst'\n",
      " 'Product Marketing Manager' 'Senior HR Manager' 'Junior Web Developer'\n",
      " 'Senior Project Coordinator' 'Chief Data Officer'\n",
      " 'Digital Content Producer' 'IT Support Specialist'\n",
      " 'Senior Marketing Analyst' 'Customer Success Manager'\n",
      " 'Senior Graphic Designer' 'Software Project Manager'\n",
      " 'Supply Chain Analyst' 'Senior Business Analyst'\n",
      " 'Junior Marketing Analyst' 'Office Manager' 'Principal Engineer'\n",
      " 'Junior HR Generalist' 'Senior Product Manager'\n",
      " 'Junior Operations Analyst' 'Senior HR Generalist'\n",
      " 'Sales Operations Manager' 'Senior Software Developer'\n",
      " 'Director of Operations' 'Junior Web Designer'\n",
      " 'Senior Training Specialist' 'Senior Research Scientist'\n",
      " 'Junior Sales Representative' 'Junior Marketing Manager'\n",
      " 'Junior Data Analyst' 'Senior Product Marketing Manager'\n",
      " 'Junior Business Analyst' 'Senior Sales Manager'\n",
      " 'Junior Marketing Specialist' 'Junior Project Manager'\n",
      " 'Senior Accountant' 'Director of Sales' 'Junior Recruiter'\n",
      " 'Senior Business Development Manager' 'Senior Product Designer'\n",
      " 'Junior Customer Support Specialist' 'Senior IT Support Specialist'\n",
      " 'Junior Financial Analyst' 'Senior Operations Manager'\n",
      " 'Director of Human Resources' 'Junior Software Engineer'\n",
      " 'Senior Sales Representative' 'Director of Product Management'\n",
      " 'Junior Copywriter' 'Senior Marketing Coordinator'\n",
      " 'Senior Human Resources Manager' 'Junior Business Development Associate'\n",
      " 'Senior Account Manager' 'Senior Researcher' 'Junior HR Coordinator'\n",
      " 'Director of Finance' 'Junior Marketing Coordinator'\n",
      " 'Junior Data Scientist' 'Senior Operations Analyst'\n",
      " 'Senior Human Resources Coordinator' 'Senior UX Designer'\n",
      " 'Junior Product Manager' 'Senior Marketing Specialist'\n",
      " 'Senior IT Project Manager' 'Senior Quality Assurance Analyst'\n",
      " 'Director of Sales and Marketing' 'Senior Account Executive'\n",
      " 'Director of Business Development' 'Junior Social Media Manager'\n",
      " 'Senior Human Resources Specialist' 'Senior Data Analyst'\n",
      " 'Director of Human Capital' 'Junior Advertising Coordinator'\n",
      " 'Junior UX Designer' 'Senior Marketing Director' 'Senior IT Consultant'\n",
      " 'Senior Financial Advisor' 'Junior Business Operations Analyst'\n",
      " 'Junior Social Media Specialist' 'Senior Product Development Manager'\n",
      " 'Junior Operations Manager' 'Senior Software Architect'\n",
      " 'Junior Research Scientist' 'Senior Financial Manager'\n",
      " 'Senior HR Specialist' 'Senior Data Engineer'\n",
      " 'Junior Operations Coordinator' 'Director of HR'\n",
      " 'Senior Operations Coordinator' 'Junior Financial Advisor'\n",
      " 'Director of Engineering']\n"
     ]
    }
   ],
   "source": [
    "# Tipos de datos y valores faltantes\n",
    "print(df.info())\n",
    "\n",
    "# Estadísticas generales\n",
    "print(\"\\n--- Estadísticas numéricas ---\")\n",
    "print(df.describe())\n",
    "\n",
    "# Valores únicos por categoría\n",
    "print(\"\\n--- Valores únicos por columna categórica ---\")\n",
    "for col in ['Gender', 'Education Level', 'Job Title']:\n",
    "    print(f\"{col}: {df[col].unique()}\")\n"
   ]
  },
  {
   "cell_type": "code",
   "execution_count": 6,
   "id": "f5922fb9-3ed4-423c-872e-2d89918b9e0a",
   "metadata": {},
   "outputs": [
    {
     "name": "stdout",
     "output_type": "stream",
     "text": [
      "\n",
      "Géneros: ['male' 'female' nan]\n",
      "\n",
      "Niveles educativos: [\"bachelor's\" \"master's\" 'phd' 'unknown']\n",
      "\n",
      "Cantidad de cargos únicos: 173\n"
     ]
    }
   ],
   "source": [
    "# Copiamos el dataframe original para no modificarlo directamente\n",
    "df_clean = df.copy()\n",
    "\n",
    "# Rellenar valores nulos en Education Level\n",
    "df_clean['Education Level'] = df_clean['Education Level'].fillna('Unknown')\n",
    "\n",
    "# Normalizar columnas de texto\n",
    "for col in ['Gender', 'Education Level', 'Job Title']:\n",
    "    df_clean[col] = df_clean[col].str.strip().str.lower()\n",
    "\n",
    "# Mostrar valores únicos para revisión rápida\n",
    "print(\"\\nGéneros:\", df_clean['Gender'].unique())\n",
    "print(\"\\nNiveles educativos:\", df_clean['Education Level'].unique())\n",
    "print(\"\\nCantidad de cargos únicos:\", df_clean['Job Title'].nunique())\n"
   ]
  },
  {
   "cell_type": "code",
   "execution_count": 7,
   "id": "1a93a25a-d624-4c16-92e4-5ce7079c2762",
   "metadata": {},
   "outputs": [
    {
     "name": "stdout",
     "output_type": "stream",
     "text": [
      "['male' 'female' 'unknown']\n"
     ]
    }
   ],
   "source": [
    "df_clean['Gender'] = df_clean['Gender'].fillna('unknown')\n",
    "print(df_clean['Gender'].unique())\n"
   ]
  },
  {
   "cell_type": "code",
   "execution_count": 9,
   "id": "2cc2ab0a-be47-47c4-b540-de02d6dcc7af",
   "metadata": {},
   "outputs": [
    {
     "name": "stdout",
     "output_type": "stream",
     "text": [
      "1.7.0\n"
     ]
    }
   ],
   "source": [
    "import sklearn\n",
    "print(sklearn.__version__)\n"
   ]
  },
  {
   "cell_type": "code",
   "execution_count": 10,
   "id": "7bef0e49-5c9d-4418-8aa8-378c9feb484c",
   "metadata": {},
   "outputs": [
    {
     "name": "stdout",
     "output_type": "stream",
     "text": [
      "Shape de X final: (375, 183)\n",
      "Shape de y: (375,)\n"
     ]
    }
   ],
   "source": [
    "from sklearn.preprocessing import OneHotEncoder, StandardScaler\n",
    "from sklearn.compose import ColumnTransformer\n",
    "from sklearn.pipeline import Pipeline\n",
    "from sklearn.model_selection import train_test_split\n",
    "import pandas as pd\n",
    "\n",
    "# Variables\n",
    "numeric_features = ['Age', 'Years of Experience']\n",
    "categorical_features = ['Gender', 'Education Level', 'Job Title']\n",
    "target = 'Salary'\n",
    "\n",
    "# Separar X e y\n",
    "X = df_clean[numeric_features + categorical_features]\n",
    "y = df_clean[target]\n",
    "\n",
    "# Preprocesamiento: Escalar numéricas y codificar categóricas\n",
    "preprocessor = ColumnTransformer(\n",
    "    transformers=[\n",
    "        ('num', StandardScaler(), numeric_features),\n",
    "        ('cat', OneHotEncoder(handle_unknown='ignore'), categorical_features)\n",
    "    ]\n",
    ")\n",
    "\n",
    "# Pipeline\n",
    "pipeline = Pipeline(steps=[\n",
    "    ('preprocessor', preprocessor)\n",
    "])\n",
    "\n",
    "# Transformar X\n",
    "X_processed = pipeline.fit_transform(X)\n",
    "\n",
    "# Mostrar dimensiones finales\n",
    "print(\"Shape de X final:\", X_processed.shape)\n",
    "print(\"Shape de y:\", y.shape)\n"
   ]
  },
  {
   "cell_type": "code",
   "execution_count": 17,
   "id": "ddc2e6b1-4b20-4d3a-9a8c-eef8782bb84f",
   "metadata": {},
   "outputs": [
    {
     "name": "stdout",
     "output_type": "stream",
     "text": [
      "Mean Squared Error (MSE): 334363453.4534535\n",
      "R² Score: 0.8542856017578997\n"
     ]
    }
   ],
   "source": [
    "# IMPORTS\n",
    "from sklearn.compose import ColumnTransformer\n",
    "from sklearn.preprocessing import OneHotEncoder, StandardScaler\n",
    "from sklearn.pipeline import Pipeline\n",
    "from sklearn.ensemble import RandomForestRegressor\n",
    "from sklearn.model_selection import train_test_split\n",
    "from sklearn.metrics import mean_squared_error, r2_score\n",
    "\n",
    "# 1. Eliminar filas con cualquier NaN en X o y\n",
    "df_model = df_clean[['Gender', 'Education Level', 'Job Title', 'Age', 'Years of Experience', 'Salary']].dropna()\n",
    "\n",
    "# 2. Definir X e y\n",
    "X = df_model.drop(columns=['Salary'])\n",
    "y = df_model['Salary']\n",
    "\n",
    "# 3. Definir columnas categóricas y numéricas\n",
    "cat_features = ['Gender', 'Education Level', 'Job Title']\n",
    "num_features = ['Age', 'Years of Experience']\n",
    "\n",
    "# 4. Pipeline de preprocesamiento\n",
    "preprocessor = ColumnTransformer(transformers=[\n",
    "    ('cat', OneHotEncoder(handle_unknown='ignore'), cat_features),\n",
    "    ('num', StandardScaler(), num_features)\n",
    "])\n",
    "\n",
    "# 5. Transformar X\n",
    "X_processed = preprocessor.fit_transform(X)\n",
    "\n",
    "# 6. Separar en train/test\n",
    "X_train, X_test, y_train, y_test = train_test_split(X_processed, y, test_size=0.2, random_state=42)\n",
    "\n",
    "# 7. Entrenar modelo\n",
    "model = RandomForestRegressor(random_state=42)\n",
    "model.fit(X_train, y_train)\n",
    "\n",
    "# 8. Predecir\n",
    "y_pred = model.predict(X_test)\n",
    "\n",
    "# 9. Evaluar resultados\n",
    "print(\"Mean Squared Error (MSE):\", mean_squared_error(y_test, y_pred))\n",
    "print(\"R² Score:\", r2_score(y_test, y_pred))\n"
   ]
  },
  {
   "cell_type": "code",
   "execution_count": 22,
   "id": "f5819629-c38f-42ba-82e2-ee77ef0c9d96",
   "metadata": {},
   "outputs": [],
   "source": [
    "import sys\n",
    "sys.path.append(\"../src\")\n",
    "\n",
    "from model_utils import train_model, evaluate_model\n"
   ]
  },
  {
   "cell_type": "code",
   "execution_count": 23,
   "id": "0f1ffb07-19c3-49b1-a4e8-bb3fc347e8d7",
   "metadata": {},
   "outputs": [
    {
     "name": "stdout",
     "output_type": "stream",
     "text": [
      "\n",
      "--- Baseline: Dummy Regressor ---\n",
      "Dummy Mean Squared Error (MSE): 2299618832.1646147\n",
      "Dummy R² Score: -0.0021656698844798594\n"
     ]
    }
   ],
   "source": [
    "from sklearn.dummy import DummyRegressor\n",
    "\n",
    "# Instanciar y entrenar el DummyRegressor\n",
    "dummy = DummyRegressor(strategy='mean')\n",
    "dummy.fit(X_train, y_train)\n",
    "\n",
    "# Predecir con Dummy\n",
    "y_dummy_pred = dummy.predict(X_test)\n",
    "\n",
    "# Evaluar Dummy\n",
    "dummy_mse = mean_squared_error(y_test, y_dummy_pred)\n",
    "dummy_r2 = r2_score(y_test, y_dummy_pred)\n",
    "\n",
    "print(\"\\n--- Baseline: Dummy Regressor ---\")\n",
    "print(\"Dummy Mean Squared Error (MSE):\", dummy_mse)\n",
    "print(\"Dummy R² Score:\", dummy_r2)\n"
   ]
  },
  {
   "cell_type": "code",
   "execution_count": null,
   "id": "738c8467-b2d5-4f75-933f-e04a0444ff3b",
   "metadata": {},
   "outputs": [],
   "source": [
    "### Comparación con Baseline: DummyRegressor\n",
    "\n",
    "Para validar el valor predictivo del modelo entrenado, se comparó contra un `DummyRegressor` que predice siempre el valor medio.\n",
    "\n",
    "**Resultados:**\n",
    "\n",
    "| Modelo           | MSE           | R² Score |\n",
    "|------------------|---------------|----------|\n",
    "| RandomForest     | 334,363,453   | 0.85     |\n",
    "| DummyRegressor   | 2,299,618,832 | -0.002   |\n",
    "\n",
    "Esto confirma que el modelo RandomForest tiene un desempeño significativamente mejor que un modelo trivial.\n",
    "\n"
   ]
  },
  {
   "cell_type": "code",
   "execution_count": 24,
   "id": "61a3763e-29ea-4f42-847e-c6c6af4b4bbe",
   "metadata": {},
   "outputs": [
    {
     "name": "stdout",
     "output_type": "stream",
     "text": [
      "Fitting 5 folds for each of 24 candidates, totalling 120 fits\n",
      "Best Parameters: {'max_depth': None, 'min_samples_leaf': 2, 'min_samples_split': 2, 'n_estimators': 200}\n",
      "Best Model MSE: 298749238.9973812\n",
      "Best Model R²: 0.869806149158437\n"
     ]
    }
   ],
   "source": [
    "from sklearn.model_selection import GridSearchCV\n",
    "from sklearn.ensemble import RandomForestRegressor\n",
    "\n",
    "# Definimos la grilla de hiperparámetros\n",
    "param_grid = {\n",
    "    'n_estimators': [100, 200],\n",
    "    'max_depth': [None, 10, 20],\n",
    "    'min_samples_split': [2, 5],\n",
    "    'min_samples_leaf': [1, 2]\n",
    "}\n",
    "\n",
    "# Instanciamos el modelo base\n",
    "rf = RandomForestRegressor(random_state=42)\n",
    "\n",
    "# Instanciamos GridSearchCV\n",
    "grid_search = GridSearchCV(\n",
    "    estimator=rf,\n",
    "    param_grid=param_grid,\n",
    "    cv=5,\n",
    "    scoring='r2',\n",
    "    n_jobs=-1,\n",
    "    verbose=1\n",
    ")\n",
    "\n",
    "# Entrenamos la búsqueda\n",
    "grid_search.fit(X_train, y_train)\n",
    "\n",
    "# Mejor modelo\n",
    "best_model = grid_search.best_estimator_\n",
    "\n",
    "# Evaluamos el mejor modelo\n",
    "from sklearn.metrics import mean_squared_error, r2_score\n",
    "\n",
    "y_pred_best = best_model.predict(X_test)\n",
    "mse_best = mean_squared_error(y_test, y_pred_best)\n",
    "r2_best = r2_score(y_test, y_pred_best)\n",
    "\n",
    "print(\"Best Parameters:\", grid_search.best_params_)\n",
    "print(\"Best Model MSE:\", mse_best)\n",
    "print(\"Best Model R²:\", r2_best)\n"
   ]
  },
  {
   "cell_type": "code",
   "execution_count": null,
   "id": "389a40cb-4402-4689-9be6-b3beb8958d53",
   "metadata": {},
   "outputs": [],
   "source": [
    "### 🧪 Comparación con RandomForest base\n",
    "\n",
    "Se realizó una búsqueda de hiperparámetros utilizando `GridSearchCV`.  \n",
    "El modelo con los mejores parámetros obtuvo:\n",
    "\n",
    "- **Best Params**: `{'max_depth': None, 'min_samples_leaf': 2, 'min_samples_split': 2, 'n_estimators': 200}`\n",
    "- **MSE**: 298,749,238.9973812\n",
    "- **R² Score**: 0.8690860149158437\n",
    "\n",
    "Esto mejora respecto al modelo RandomForest base (sin optimización) que tenía un R² de **0.85**.  \n",
    "**Podemos concluir que la optimización mejora ligeramente el desempeño predictivo.**\n",
    "\n"
   ]
  },
  {
   "cell_type": "code",
   "execution_count": 28,
   "id": "ef8893ee-f12d-45b1-aa27-511d0717cdaa",
   "metadata": {},
   "outputs": [],
   "source": [
    "import os\n",
    "import joblib\n",
    "\n",
    "def save_model(model, path=\"models/best_model.pkl\"):\n",
    "    \"\"\"Guarda el modelo entrenado en formato .pkl\"\"\"\n",
    "    dir_path = os.path.dirname(path)\n",
    "    if dir_path and not os.path.exists(dir_path):\n",
    "        os.makedirs(dir_path)\n",
    "    joblib.dump(model, path)\n",
    "\n"
   ]
  },
  {
   "cell_type": "code",
   "execution_count": null,
   "id": "664ae45b-a3e6-4a0d-bb38-37655fa73ef1",
   "metadata": {},
   "outputs": [],
   "source": []
  }
 ],
 "metadata": {
  "kernelspec": {
   "display_name": "Python 3 (ipykernel)",
   "language": "python",
   "name": "python3"
  },
  "language_info": {
   "codemirror_mode": {
    "name": "ipython",
    "version": 3
   },
   "file_extension": ".py",
   "mimetype": "text/x-python",
   "name": "python",
   "nbconvert_exporter": "python",
   "pygments_lexer": "ipython3",
   "version": "3.13.5"
  }
 },
 "nbformat": 4,
 "nbformat_minor": 5
}
