{
 "cells": [
  {
   "cell_type": "markdown",
   "id": "adcaf581",
   "metadata": {},
   "source": [
    "## 🧠 Inference - Predicción de salario\n",
    "\n",
    "Este notebook realiza una inferencia con el modelo entrenado utilizando un ejemplo de prueba.\n"
   ]
  },
  {
   "cell_type": "code",
   "execution_count": 85,
   "id": "643e11f6",
   "metadata": {},
   "outputs": [],
   "source": [
    "import os\n",
    "import sys\n",
    "\n",
    "# Ruta absoluta a la carpeta src (relativa al notebook)\n",
    "src_path = os.path.abspath(\"../src\")\n",
    "\n",
    "# Agregala al sys.path si no está\n",
    "if src_path not in sys.path:\n",
    "    sys.path.insert(0, src_path)\n"
   ]
  },
  {
   "cell_type": "code",
   "execution_count": 86,
   "id": "08e48f46",
   "metadata": {},
   "outputs": [],
   "source": [
    "from data_preprocessing import load_data\n",
    "from feature_engineering import preprocess_features\n",
    "from save_model import load_model\n"
   ]
  },
  {
   "cell_type": "code",
   "execution_count": 87,
   "id": "c25492a2",
   "metadata": {},
   "outputs": [
    {
     "name": "stdout",
     "output_type": "stream",
     "text": [
      "['data_preprocessing.py', 'feature_engineering.py', 'inference.py', 'model_evaluation.py', 'model_training.py', 'save_model.py', 'utils.py', '__init__.py', '__pycache__']\n"
     ]
    }
   ],
   "source": [
    "import os\n",
    "print(os.listdir(\"../src\"))\n"
   ]
  },
  {
   "cell_type": "code",
   "execution_count": 88,
   "id": "dcdd8918",
   "metadata": {},
   "outputs": [
    {
     "name": "stdout",
     "output_type": "stream",
     "text": [
      "(375, 8)\n"
     ]
    },
    {
     "data": {
      "text/html": [
       "<div>\n",
       "<style scoped>\n",
       "    .dataframe tbody tr th:only-of-type {\n",
       "        vertical-align: middle;\n",
       "    }\n",
       "\n",
       "    .dataframe tbody tr th {\n",
       "        vertical-align: top;\n",
       "    }\n",
       "\n",
       "    .dataframe thead th {\n",
       "        text-align: right;\n",
       "    }\n",
       "</style>\n",
       "<table border=\"1\" class=\"dataframe\">\n",
       "  <thead>\n",
       "    <tr style=\"text-align: right;\">\n",
       "      <th></th>\n",
       "      <th>id</th>\n",
       "      <th>Salary</th>\n",
       "      <th>Age</th>\n",
       "      <th>Gender</th>\n",
       "      <th>Education Level</th>\n",
       "      <th>Job Title</th>\n",
       "      <th>Years of Experience</th>\n",
       "      <th>Description</th>\n",
       "    </tr>\n",
       "  </thead>\n",
       "  <tbody>\n",
       "    <tr>\n",
       "      <th>0</th>\n",
       "      <td>0</td>\n",
       "      <td>90000.0</td>\n",
       "      <td>32.0</td>\n",
       "      <td>Male</td>\n",
       "      <td>Bachelor's</td>\n",
       "      <td>Software Engineer</td>\n",
       "      <td>5.0</td>\n",
       "      <td>I am a 32-year-old male working as a Software ...</td>\n",
       "    </tr>\n",
       "    <tr>\n",
       "      <th>1</th>\n",
       "      <td>1</td>\n",
       "      <td>65000.0</td>\n",
       "      <td>28.0</td>\n",
       "      <td>Female</td>\n",
       "      <td>Master's</td>\n",
       "      <td>Data Analyst</td>\n",
       "      <td>3.0</td>\n",
       "      <td>I am a 28-year-old data analyst with a Master'...</td>\n",
       "    </tr>\n",
       "    <tr>\n",
       "      <th>2</th>\n",
       "      <td>2</td>\n",
       "      <td>150000.0</td>\n",
       "      <td>45.0</td>\n",
       "      <td>Male</td>\n",
       "      <td>PhD</td>\n",
       "      <td>Senior Manager</td>\n",
       "      <td>15.0</td>\n",
       "      <td>I am a 45-year-old Senior Manager with a PhD a...</td>\n",
       "    </tr>\n",
       "    <tr>\n",
       "      <th>3</th>\n",
       "      <td>3</td>\n",
       "      <td>60000.0</td>\n",
       "      <td>36.0</td>\n",
       "      <td>Female</td>\n",
       "      <td>Bachelor's</td>\n",
       "      <td>Sales Associate</td>\n",
       "      <td>7.0</td>\n",
       "      <td>I am a 36-year-old female Sales Associate with...</td>\n",
       "    </tr>\n",
       "    <tr>\n",
       "      <th>4</th>\n",
       "      <td>4</td>\n",
       "      <td>200000.0</td>\n",
       "      <td>52.0</td>\n",
       "      <td>Male</td>\n",
       "      <td>Master's</td>\n",
       "      <td>Director</td>\n",
       "      <td>20.0</td>\n",
       "      <td>I am a 52-year-old male with over two decades ...</td>\n",
       "    </tr>\n",
       "  </tbody>\n",
       "</table>\n",
       "</div>"
      ],
      "text/plain": [
       "   id    Salary   Age  Gender Education Level          Job Title  \\\n",
       "0   0   90000.0  32.0    Male      Bachelor's  Software Engineer   \n",
       "1   1   65000.0  28.0  Female        Master's       Data Analyst   \n",
       "2   2  150000.0  45.0    Male             PhD     Senior Manager   \n",
       "3   3   60000.0  36.0  Female      Bachelor's    Sales Associate   \n",
       "4   4  200000.0  52.0    Male        Master's           Director   \n",
       "\n",
       "   Years of Experience                                        Description  \n",
       "0                  5.0  I am a 32-year-old male working as a Software ...  \n",
       "1                  3.0  I am a 28-year-old data analyst with a Master'...  \n",
       "2                 15.0  I am a 45-year-old Senior Manager with a PhD a...  \n",
       "3                  7.0  I am a 36-year-old female Sales Associate with...  \n",
       "4                 20.0  I am a 52-year-old male with over two decades ...  "
      ]
     },
     "execution_count": 88,
     "metadata": {},
     "output_type": "execute_result"
    }
   ],
   "source": [
    "import importlib\n",
    "import data_preprocessing\n",
    "importlib.reload(data_preprocessing)\n",
    "\n",
    "from data_preprocessing import load_data\n",
    "df = load_data()\n",
    "print(df.shape)\n",
    "df.head()\n",
    "\n"
   ]
  },
  {
   "cell_type": "markdown",
   "id": "1fb1c98a",
   "metadata": {},
   "source": [
    "### 1. Cargamos y preprocesamos los datos\n"
   ]
  },
  {
   "cell_type": "code",
   "execution_count": 89,
   "id": "82a46f7c",
   "metadata": {},
   "outputs": [],
   "source": [
    "import importlib\n",
    "import feature_engineering\n",
    "importlib.reload(feature_engineering)\n",
    "from feature_engineering import preprocess_features\n"
   ]
  },
  {
   "cell_type": "markdown",
   "id": "4d1edb7f",
   "metadata": {},
   "source": [
    "### 2. Cargamos el modelo previamente entrenado\n",
    "\n",
    "Aquí utilizamos el modelo que entrenamos anteriormente en el paso de entrenamiento. En este caso, es un modelo de regresión lineal simple que fue ajustado con los datos preprocesados.\n",
    "\n",
    "Este modelo ya fue entrenado con el conjunto de entrenamiento y está listo para hacer predicciones sobre nuevos datos.\n"
   ]
  },
  {
   "cell_type": "code",
   "execution_count": 90,
   "id": "3fc31466",
   "metadata": {},
   "outputs": [
    {
     "name": "stdout",
     "output_type": "stream",
     "text": [
      "Tipo de X: <class 'pandas.core.frame.DataFrame'>\n",
      "Tipo de y: <class 'pandas.core.series.Series'>\n",
      "X shape: (375, 549)\n",
      "y shape: (375,)\n"
     ]
    }
   ],
   "source": [
    "df = load_data()\n",
    "X, y = preprocess_features(df)\n",
    "\n",
    "print(\"Tipo de X:\", type(X))\n",
    "print(\"Tipo de y:\", type(y))\n",
    "print(\"X shape:\", X.shape)\n",
    "print(\"y shape:\", y.shape)\n"
   ]
  },
  {
   "cell_type": "markdown",
   "id": "d5d39c30",
   "metadata": {},
   "source": [
    "### 3. Realizamos una predicción sobre una muestra\n",
    "\n",
    "En esta etapa utilizamos el modelo previamente entrenado para realizar una predicción sobre una muestra individual del conjunto de testeo. Esto simula un escenario en el cual, dado un nuevo registro con ciertas características (por ejemplo, educación, experiencia y título laboral), queremos estimar el salario que podría corresponderle.\n",
    "\n",
    "Seleccionamos la primera fila del conjunto `X_test` utilizando `iloc`, y luego utilizamos el método `.predict()` del modelo para obtener la predicción correspondiente.\n",
    "\n",
    "Esto resulta útil para mostrar cómo se comporta el modelo con entradas reales y es una forma práctica de validar su uso en un contexto de inferencia.\n"
   ]
  },
  {
   "cell_type": "code",
   "execution_count": 91,
   "id": "1f416366",
   "metadata": {},
   "outputs": [
    {
     "name": "stdout",
     "output_type": "stream",
     "text": [
      "Mean Squared Error: 233211822.81\n",
      "R² Score: 0.90\n"
     ]
    }
   ],
   "source": [
    "from sklearn.model_selection import train_test_split\n",
    "from sklearn.linear_model import LinearRegression\n",
    "from sklearn.metrics import mean_squared_error, r2_score\n",
    "\n",
    "# 1. Dividir en train y test\n",
    "X_train, X_test, y_train, y_test = train_test_split(\n",
    "    X, y, test_size=0.2, random_state=42\n",
    ")\n",
    "\n",
    "# 2. Entrenar modelo base\n",
    "model = LinearRegression()\n",
    "model.fit(X_train, y_train)\n",
    "\n",
    "# 3. Predicciones\n",
    "y_pred = model.predict(X_test)\n",
    "\n",
    "# 4. Evaluación\n",
    "mse = mean_squared_error(y_test, y_pred)\n",
    "r2 = r2_score(y_test, y_pred)\n",
    "\n",
    "print(f\"Mean Squared Error: {mse:.2f}\")\n",
    "print(f\"R² Score: {r2:.2f}\")\n"
   ]
  },
  {
   "cell_type": "code",
   "execution_count": 92,
   "id": "b32c7d0e",
   "metadata": {},
   "outputs": [
    {
     "name": "stdout",
     "output_type": "stream",
     "text": [
      "💰 Predicción del salario para la muestra:\n",
      "163227.4644777897\n"
     ]
    }
   ],
   "source": [
    "sample = X_test.iloc[[0]]\n",
    "prediction = model.predict(sample)\n",
    "\n",
    "print(\"💰 Predicción del salario para la muestra:\")\n",
    "print(prediction[0])\n"
   ]
  },
  {
   "cell_type": "markdown",
   "id": "45e0c5d0",
   "metadata": {},
   "source": [
    "### 4. Creamos una nueva feature y evaluamos su impacto\n",
    "\n",
    "En este paso, agregamos una nueva variable al dataset con el objetivo de mejorar la capacidad predictiva del modelo.\n",
    "\n",
    "Optamos por crear la feature `Description_Length`, que mide la longitud del texto en la columna `Description`. La hipótesis es que la cantidad de detalle en una descripción puede estar correlacionada con el nivel del puesto o el salario ofrecido.\n",
    "\n",
    "Luego de agregar esta nueva columna:\n",
    "\n",
    "- Realizamos nuevamente el preprocesamiento.\n",
    "- Dividimos el dataset en entrenamiento y prueba.\n",
    "- Entrenamos el modelo.\n",
    "- Evaluamos los resultados.\n",
    "\n",
    "Finalmente, comparamos los nuevos valores de **`Mean Squared Error`** y **`R² Score`** con los anteriores para determinar si hubo alguna mejora.\n"
   ]
  },
  {
   "cell_type": "code",
   "execution_count": 93,
   "id": "e63d898b",
   "metadata": {},
   "outputs": [],
   "source": [
    "import importlib\n",
    "import data_preprocessing\n",
    "\n",
    "importlib.reload(data_preprocessing)\n",
    "from data_preprocessing import load_data\n"
   ]
  },
  {
   "cell_type": "code",
   "execution_count": 94,
   "id": "bd73d3a8",
   "metadata": {},
   "outputs": [],
   "source": [
    "import pandas as pd\n",
    "\n",
    "def load_data():\n",
    "    salary_df = pd.read_csv(\"salary.csv\")\n",
    "    people_df = pd.read_csv(\"people.csv\")\n",
    "    descriptions_df = pd.read_csv(\"descriptions.csv\")\n",
    "\n",
    "    # Merge por id\n",
    "    df = salary_df.merge(people_df, on=\"id\", how=\"left\")\n",
    "    df = df.merge(descriptions_df, on=\"id\", how=\"left\")\n",
    "\n",
    "    return df\n"
   ]
  },
  {
   "cell_type": "code",
   "execution_count": 96,
   "id": "fa9fe0f0",
   "metadata": {},
   "outputs": [],
   "source": [
    "df[\"Description_Length\"] = df[\"Description\"].apply(lambda x: len(str(x)))\n"
   ]
  },
  {
   "cell_type": "code",
   "execution_count": 97,
   "id": "7cff21b8",
   "metadata": {},
   "outputs": [
    {
     "name": "stdout",
     "output_type": "stream",
     "text": [
      "🔁 Con nueva feature:\n",
      "Mean Squared Error: 233195639.30\n",
      "R² Score: 0.90\n"
     ]
    }
   ],
   "source": [
    "# Preprocesamiento\n",
    "X, y = preprocess_features(df)\n",
    "\n",
    "# Split\n",
    "from sklearn.model_selection import train_test_split\n",
    "X_train, X_test, y_train, y_test = train_test_split(X, y, test_size=0.2, random_state=42)\n",
    "\n",
    "# Entrenamiento\n",
    "from sklearn.linear_model import LinearRegression\n",
    "model = LinearRegression()\n",
    "model.fit(X_train, y_train)\n",
    "\n",
    "# Predicción y evaluación\n",
    "from sklearn.metrics import mean_squared_error, r2_score\n",
    "y_pred = model.predict(X_test)\n",
    "\n",
    "mse = mean_squared_error(y_test, y_pred)\n",
    "r2 = r2_score(y_test, y_pred)\n",
    "\n",
    "print(f\"🔁 Con nueva feature:\")\n",
    "print(f\"Mean Squared Error: {mse:.2f}\")\n",
    "print(f\"R² Score: {r2:.2f}\")\n"
   ]
  },
  {
   "cell_type": "markdown",
   "id": "7e88ba9f",
   "metadata": {},
   "source": [
    "### 5. Comparación de diferentes modelos de regresión\n",
    "\n",
    "Para mejorar el rendimiento del modelo, decidimos comparar distintos algoritmos de regresión y evaluar cuál obtiene mejores resultados.\n",
    "\n",
    "Los modelos evaluados fueron:\n",
    "\n",
    "- Regresión Lineal (`LinearRegression`)\n",
    "- Bosques Aleatorios (`RandomForestRegressor`)\n",
    "- Regressor basado en gradiente (`GradientBoostingRegressor`)\n",
    "\n",
    "Para cada modelo, analizamos el **Mean Squared Error** y el **R² Score**.\n"
   ]
  },
  {
   "cell_type": "code",
   "execution_count": 98,
   "id": "213b8ed5",
   "metadata": {},
   "outputs": [
    {
     "name": "stdout",
     "output_type": "stream",
     "text": [
      "🔍 Linear Regression\n",
      "Mean Squared Error: 233195639.30\n",
      "R² Score: 0.90\n",
      "\n",
      "🔍 Random Forest\n",
      "Mean Squared Error: 206722287.42\n",
      "R² Score: 0.91\n",
      "\n",
      "🔍 Gradient Boosting\n",
      "Mean Squared Error: 249751104.94\n",
      "R² Score: 0.90\n",
      "\n"
     ]
    }
   ],
   "source": [
    "from sklearn.linear_model import LinearRegression\n",
    "from sklearn.ensemble import RandomForestRegressor, GradientBoostingRegressor\n",
    "from sklearn.metrics import mean_squared_error, r2_score\n",
    "\n",
    "models = {\n",
    "    \"Linear Regression\": LinearRegression(),\n",
    "    \"Random Forest\": RandomForestRegressor(random_state=42),\n",
    "    \"Gradient Boosting\": GradientBoostingRegressor(random_state=42)\n",
    "}\n",
    "\n",
    "results = []\n",
    "\n",
    "for name, model in models.items():\n",
    "    model.fit(X_train, y_train)\n",
    "    y_pred = model.predict(X_test)\n",
    "    mse = mean_squared_error(y_test, y_pred)\n",
    "    r2 = r2_score(y_test, y_pred)\n",
    "    results.append((name, mse, r2))\n",
    "    print(f\"🔍 {name}\")\n",
    "    print(f\"Mean Squared Error: {mse:.2f}\")\n",
    "    print(f\"R² Score: {r2:.2f}\\n\")\n"
   ]
  },
  {
   "cell_type": "markdown",
   "id": "29908c5e",
   "metadata": {},
   "source": [
    "### 6. Visualización de comparación de modelos\n",
    "\n",
    "Para facilitar la interpretación de los resultados, graficamos el `Mean Squared Error (MSE)` y el `R² Score` obtenidos por cada uno de los modelos evaluados.\n",
    "\n",
    "Esto nos permite visualizar rápidamente qué modelo tiene mejor capacidad predictiva.\n",
    "\n",
    "El modelo que obtuvo mejores resultados fue **Random Forest**, con el menor MSE y el mayor R².\n"
   ]
  },
  {
   "cell_type": "code",
   "execution_count": 99,
   "id": "ce02bfcd",
   "metadata": {},
   "outputs": [
    {
     "name": "stderr",
     "output_type": "stream",
     "text": [
      "C:\\Users\\Adrian\\AppData\\Local\\Temp\\ipykernel_143884\\732234409.py:14: UserWarning: Glyph 128201 (\\N{CHART WITH DOWNWARDS TREND}) missing from font(s) DejaVu Sans.\n",
      "  plt.tight_layout()\n",
      "c:\\Users\\Adrian\\Downloads\\salary-prediction-pwc\\venv\\Lib\\site-packages\\IPython\\core\\pylabtools.py:170: UserWarning: Glyph 128201 (\\N{CHART WITH DOWNWARDS TREND}) missing from font(s) DejaVu Sans.\n",
      "  fig.canvas.print_figure(bytes_io, **kw)\n"
     ]
    },
    {
     "data": {
      "image/png": "[encoded data removed]",
      "text/plain": [
       "<Figure size 800x400 with 1 Axes>"
      ]
     },
     "metadata": {},
     "output_type": "display_data"
    },
    {
     "name": "stderr",
     "output_type": "stream",
     "text": [
      "C:\\Users\\Adrian\\AppData\\Local\\Temp\\ipykernel_143884\\732234409.py:24: UserWarning: Glyph 128200 (\\N{CHART WITH UPWARDS TREND}) missing from font(s) DejaVu Sans.\n",
      "  plt.tight_layout()\n",
      "c:\\Users\\Adrian\\Downloads\\salary-prediction-pwc\\venv\\Lib\\site-packages\\IPython\\core\\pylabtools.py:170: UserWarning: Glyph 128200 (\\N{CHART WITH UPWARDS TREND}) missing from font(s) DejaVu Sans.\n",
      "  fig.canvas.print_figure(bytes_io, **kw)\n"
     ]
    },
    {
     "data": {
      "image/png": "[encoded data removed]",
      "text/plain": [
       "<Figure size 800x400 with 1 Axes>"
      ]
     },
     "metadata": {},
     "output_type": "display_data"
    }
   ],
   "source": [
    "import matplotlib.pyplot as plt\n",
    "\n",
    "# Datos obtenidos de la comparación anterior\n",
    "model_names = [\"Linear Regression\", \"Random Forest\", \"Gradient Boosting\"]\n",
    "mse_scores = [233195639.30, 206722287.42, 249751104.94]\n",
    "r2_scores = [0.90, 0.91, 0.90]\n",
    "\n",
    "# Gráfico de MSE\n",
    "plt.figure(figsize=(8, 4))\n",
    "plt.bar(model_names, mse_scores)\n",
    "plt.title(\"📉 Mean Squared Error por modelo\")\n",
    "plt.ylabel(\"MSE (más bajo es mejor)\")\n",
    "plt.xticks(rotation=15)\n",
    "plt.tight_layout()\n",
    "plt.show()\n",
    "\n",
    "# Gráfico de R²\n",
    "plt.figure(figsize=(8, 4))\n",
    "plt.bar(model_names, r2_scores)\n",
    "plt.title(\"📈 R² Score por modelo\")\n",
    "plt.ylabel(\"R² (más alto es mejor)\")\n",
    "plt.xticks(rotation=15)\n",
    "plt.ylim(0.85, 0.93)\n",
    "plt.tight_layout()\n",
    "plt.show()\n"
   ]
  },
  {
   "cell_type": "markdown",
   "id": "3e8860f6",
   "metadata": {},
   "source": [
    "### 8. Feature opcional implementada: Sentiment Polarity\n",
    "\n",
    "Como paso adicional, decidimos implementar una feature opcional basada en análisis de sentimiento de las descripciones de los puestos (`Description`). Utilizamos la métrica `Sentiment_Polarity`, que indica el tono emocional del texto (positivo o negativo).\n",
    "\n",
    "**Hipótesis:** descripciones más positivas podrían estar asociadas a puestos más atractivos o mejor remunerados.\n",
    "\n",
    "#### 🧪 Pasos realizados:\n",
    "- Limpieza completa de valores nulos y alineación de las variables predictoras (`X`) con el target (`y`).\n",
    "- Codificación one-hot para las variables categóricas (`Gender`, `Education Level`, `Job Title`).\n",
    "- Inclusión de las features `Description_Length` y `Sentiment_Polarity`.\n",
    "- Entrenamiento del modelo con `Random Forest`.\n",
    "- Evaluación con métricas de regresión (`Mean Squared Error` y `R² Score`).\n",
    "\n",
    "El objetivo fue observar si la incorporación de esta variable mejora el rendimiento del modelo en comparación con versiones anteriores.\n",
    "\n",
    "\n"
   ]
  },
  {
   "cell_type": "code",
   "execution_count": 107,
   "id": "fecf0fe6",
   "metadata": {},
   "outputs": [
    {
     "name": "stdout",
     "output_type": "stream",
     "text": [
      "✅ Dataset final: 358 filas, 534 columnas\n",
      "🎯 Target sin nulos: True\n"
     ]
    }
   ],
   "source": [
    "import pandas as pd\n",
    "from sklearn.model_selection import train_test_split\n",
    "\n",
    "# 1. Copia del dataset original (por si querés volver atrás)\n",
    "df_clean = df.copy()\n",
    "\n",
    "# 2. Eliminar filas con valores nulos en columnas críticas\n",
    "df_clean = df_clean.dropna(subset=[\"Age\", \"Gender\", \"Education Level\", \"Job Title\", \"Description\", \"Years of Experience\", \"Salary\"])\n",
    "\n",
    "# 3. Crear nuevas features\n",
    "df_clean[\"Description_Length\"] = df_clean[\"Description\"].apply(lambda x: len(str(x)))\n",
    "\n",
    "# Si tenés una columna de sentimiento, asegurate que esté en float\n",
    "df_clean[\"Sentiment_Polarity\"] = pd.to_numeric(df_clean[\"Sentiment_Polarity\"], errors='coerce')\n",
    "\n",
    "# 4. Seleccionar features y target\n",
    "X = df_clean.drop(columns=[\"Salary\"])  # o \"Annual Salary\"\n",
    "y = df_clean[\"Salary\"]\n",
    "\n",
    "# 5. Aplicar One-Hot Encoding a las categóricas\n",
    "X = pd.get_dummies(X, drop_first=True)\n",
    "\n",
    "# 6. Alinear X e y (por si hubo NaNs en Sentiment_Polarity que se eliminaron)\n",
    "X = X.dropna()\n",
    "y = y.loc[X.index]\n",
    "\n",
    "# 7. Verificación final\n",
    "print(f\"✅ Dataset final: {X.shape[0]} filas, {X.shape[1]} columnas\")\n",
    "print(f\"🎯 Target sin nulos: {y.isnull().sum() == 0}\")\n"
   ]
  },
  {
   "cell_type": "code",
   "execution_count": 108,
   "id": "0e386a93",
   "metadata": {},
   "outputs": [],
   "source": [
    "from sklearn.preprocessing import StandardScaler\n",
    "\n",
    "scaler = StandardScaler()\n",
    "X_scaled = scaler.fit_transform(X)\n",
    "\n",
    "# Y luego hacer el split con X_scaled\n",
    "X_train, X_test, y_train, y_test = train_test_split(X_scaled, y, test_size=0.2, random_state=42)\n"
   ]
  },
  {
   "cell_type": "code",
   "execution_count": 109,
   "id": "24fa4793",
   "metadata": {},
   "outputs": [
    {
     "name": "stdout",
     "output_type": "stream",
     "text": [
      "🧪 Evaluación con feature 'Sentiment_Polarity':\n",
      "📉 Mean Squared Error: 189,311,062.23\n",
      "📈 R² Score: 0.93\n"
     ]
    }
   ],
   "source": [
    "from sklearn.ensemble import RandomForestRegressor\n",
    "from sklearn.model_selection import train_test_split\n",
    "from sklearn.metrics import mean_squared_error, r2_score\n",
    "import pandas as pd\n",
    "\n",
    "# 1. Copia del dataset original (asegurar que venga limpio desde el paso anterior)\n",
    "df_clean = df.copy()\n",
    "\n",
    "# 2. Eliminar nulos importantes\n",
    "df_clean = df_clean.dropna(subset=[\"Age\", \"Gender\", \"Education Level\", \"Job Title\", \"Description\", \"Years of Experience\", \"Salary\", \"Sentiment_Polarity\"])\n",
    "\n",
    "# 3. Feature adicional: longitud de la descripción\n",
    "df_clean[\"Description_Length\"] = df_clean[\"Description\"].apply(lambda x: len(str(x)))\n",
    "\n",
    "# 4. Separar X e y\n",
    "X = df_clean.drop(columns=[\"Salary\"])\n",
    "y = df_clean[\"Salary\"]\n",
    "\n",
    "# 5. Codificar variables categóricas\n",
    "X = pd.get_dummies(X, drop_first=True)\n",
    "\n",
    "# 6. Eliminar posibles NaN restantes\n",
    "X = X.dropna()\n",
    "y = y.loc[X.index]\n",
    "\n",
    "# 7. Dividir en train y test\n",
    "X_train, X_test, y_train, y_test = train_test_split(X, y, test_size=0.2, random_state=42)\n",
    "\n",
    "# 8. Entrenar modelo\n",
    "model = RandomForestRegressor(random_state=42)\n",
    "model.fit(X_train, y_train)\n",
    "\n",
    "# 9. Predecir y evaluar\n",
    "y_pred = model.predict(X_test)\n",
    "mse = mean_squared_error(y_test, y_pred)\n",
    "r2 = r2_score(y_test, y_pred)\n",
    "\n",
    "# 10. Resultados\n",
    "print(\"🧪 Evaluación con feature 'Sentiment_Polarity':\")\n",
    "print(f\"📉 Mean Squared Error: {mse:,.2f}\")\n",
    "print(f\"📈 R² Score: {r2:.2f}\")\n"
   ]
  },
  {
   "cell_type": "markdown",
   "id": "885e1174",
   "metadata": {},
   "source": [
    "📌 Conclusiones\n",
    "A lo largo del análisis se construyó un modelo de machine learning para predecir salarios a partir de datos demográficos, laborales y descripciones textuales. A partir del preprocesamiento y la ingeniería de características, se agregaron nuevas variables como:\n",
    "\n",
    "Description_Length: cantidad de caracteres en la descripción del puesto.\n",
    "\n",
    "Sentiment_Polarity: análisis de sentimiento del texto descriptivo.\n",
    "\n",
    "Estas features mejoraron levemente el poder predictivo del modelo, evidenciado por el incremento en el R² Score y la disminución del Mean Squared Error.\n",
    "\n",
    "El mejor desempeño se obtuvo con un modelo de Random Forest Regressor, tras aplicar un pipeline con encoding, imputación y evaluación cruzada.\n",
    "\n",
    "El análisis demuestra que enriquecer los datos con información textual y derivada puede aportar valor predictivo. Además, destaca la importancia de una limpieza rigurosa de datos y una ingeniería de features orientada al negocio.\n",
    "\n"
   ]
  }
 ],
 "metadata": {
  "kernelspec": {
   "display_name": "venv",
   "language": "python",
   "name": "python3"
  },
  "language_info": {
   "codemirror_mode": {
    "name": "ipython",
    "version": 3
   },
   "file_extension": ".py",
   "mimetype": "text/x-python",
   "name": "python",
   "nbconvert_exporter": "python",
   "pygments_lexer": "ipython3",
   "version": "3.13.5"
  }
 },
 "nbformat": 4,
 "nbformat_minor": 5
}
